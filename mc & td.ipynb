{
 "cells": [
  {
   "cell_type": "code",
   "execution_count": 6,
   "metadata": {
    "collapsed": false
   },
   "outputs": [],
   "source": [
    "import gym\n",
    "import numpy as np\n",
    "from IPython.display import Image\n",
    "from tqdm import tqdm\n",
    "import matplotlib.pyplot as plt\n",
    "%matplotlib inline"
   ]
  },
  {
   "cell_type": "code",
   "execution_count": 2,
   "metadata": {
    "collapsed": false
   },
   "outputs": [],
   "source": [
    "def get_mean_rewards(rewards, transitions, policy):\n",
    "    return (rewards * transitions * policy[:,:,np.newaxis]).sum(axis = (1,2))"
   ]
  },
  {
   "cell_type": "code",
   "execution_count": 3,
   "metadata": {
    "collapsed": true
   },
   "outputs": [],
   "source": [
    "def get_mean_transitions(rewards, transitions, policy):\n",
    "    return (transitions * policy[:,:,np.newaxis]).sum(axis = (1))"
   ]
  },
  {
   "cell_type": "code",
   "execution_count": 4,
   "metadata": {
    "collapsed": false
   },
   "outputs": [],
   "source": [
    "def evaluate_value_func(rewards, transitions, policy, gamma, max_iter, tolerance):\n",
    "    # transitions - [s, a, s']\n",
    "    # rewards - [s, a, s']\n",
    "    # policy  - [s, a]\n",
    "    mean_rewards = get_mean_rewards(rewards, transitions, policy)\n",
    "    mean_transitions = get_mean_transitions(rewards, transitions, policy)\n",
    "    #v = np.random.normal(size=rewards.shape[0])\n",
    "    v = np.zeros(rewards.shape[0]) \n",
    "    for k in range(max_iter):\n",
    "        old_v = np.copy(v)\n",
    "        v = mean_rewards + gamma * mean_transitions.dot(v)\n",
    "        #print(mean_rewards)\n",
    "        if np.abs(old_v - v).max() < tolerance:\n",
    "            print('last k ', k)\n",
    "            break\n",
    "    return v"
   ]
  },
  {
   "cell_type": "code",
   "execution_count": 5,
   "metadata": {
    "collapsed": true
   },
   "outputs": [],
   "source": [
    "def get_params(env, ns, na):\n",
    "    transitions = np.zeros([ns, na, ns])\n",
    "    rewards = np.zeros([ns, na, ns])\n",
    "    for s in range(ns):\n",
    "        for a in range(na):\n",
    "            current_transitions = env.P[s][a]\n",
    "            for p_trans,  next_s,rew, done in current_transitions:\n",
    "                transitions[s,a,next_s] += p_trans\n",
    "                rewards[s,a,next_s] = rew\n",
    "            transitions[s,a,:]/=np.sum(transitions[s,a,:])\n",
    "    return rewards, transitions"
   ]
  },
  {
   "cell_type": "code",
   "execution_count": 6,
   "metadata": {
    "collapsed": true
   },
   "outputs": [],
   "source": [
    "def do_policy_iteration(rewards, transitions, gamma = 1, \n",
    "                        max_iter_eval = 100, max_iter_update = 1000, tolerance = 10e-8):\n",
    "    ns = rewards.shape[0]\n",
    "    na = rewards.shape[1]\n",
    "    policy = np.zeros((ns, na))\n",
    "    \n",
    "    for i in range(max_iter_update):\n",
    "        v = evaluate_value_func(rewards, transitions, policy, gamma, max_iter_eval, tolerance) \n",
    "        q = (transitions * (rewards + gamma * v[np.newaxis, np.newaxis, :]) ).sum(axis = 2)\n",
    "       \n",
    "        new_policy = np.zeros_like(policy)\n",
    "        new_policy[np.arange(ns), np.argmax(q, axis = 1)] = 1\n",
    "        \n",
    "        if np.array_equal(policy, new_policy):\n",
    "            break\n",
    "        policy = np.copy(new_policy)\n",
    "        \n",
    "    return policy"
   ]
  },
  {
   "cell_type": "code",
   "execution_count": 172,
   "metadata": {
    "collapsed": false
   },
   "outputs": [
    {
     "name": "stderr",
     "output_type": "stream",
     "text": [
      "[2017-06-27 12:44:41,947] Making new env: FrozenLake8x8-v0\n"
     ]
    },
    {
     "data": {
      "text/plain": [
       "0"
      ]
     },
     "execution_count": 172,
     "metadata": {},
     "output_type": "execute_result"
    }
   ],
   "source": [
    "name = 'FrozenLake8x8-v0'\n",
    "env = gym.make(name)\n",
    "env.reset()"
   ]
  },
  {
   "cell_type": "code",
   "execution_count": 173,
   "metadata": {
    "collapsed": true
   },
   "outputs": [],
   "source": [
    "ns = env.observation_space.n\n",
    "na = env.action_space.n\n",
    "rewards, transitions = get_params(env, ns, na)"
   ]
  },
  {
   "cell_type": "code",
   "execution_count": 174,
   "metadata": {
    "collapsed": false
   },
   "outputs": [
    {
     "name": "stdout",
     "output_type": "stream",
     "text": [
      "('last k ', 0)\n",
      "('last k ', 29)\n"
     ]
    }
   ],
   "source": [
    "fixed_policy = do_policy_iteration(rewards, transitions)\n",
    "gamma = 1"
   ]
  },
  {
   "cell_type": "code",
   "execution_count": 175,
   "metadata": {
    "collapsed": false
   },
   "outputs": [
    {
     "name": "stdout",
     "output_type": "stream",
     "text": [
      "('last k ', 747)\n"
     ]
    }
   ],
   "source": [
    "real_values = evaluate_value_func(rewards, transitions, fixed_policy, gamma, 1000, 10e-8)"
   ]
  },
  {
   "cell_type": "code",
   "execution_count": 176,
   "metadata": {
    "collapsed": true
   },
   "outputs": [],
   "source": [
    "def rmse(y_true, y_predict):\n",
    "    return np.sqrt(((y_true - y_predict) ** 2).mean())"
   ]
  },
  {
   "cell_type": "code",
   "execution_count": 209,
   "metadata": {
    "collapsed": true
   },
   "outputs": [],
   "source": [
    "def mc_with_simple_mean(env, policy, count_rmse, outer_loop = 10, n_episodes = 1000):\n",
    "    estimates = np.zeros(ns)\n",
    "    \n",
    "    for j in range(outer_loop):\n",
    "        counts = np.zeros(ns)\n",
    "        sums = np.zeros(ns)\n",
    "        history = np.zeros(n_episodes)\n",
    "        for i in range(n_episodes):\n",
    "            seen = np.zeros(ns)\n",
    "            observation = env.reset()\n",
    "            episode_reward = 0\n",
    "            ######\n",
    "            while True:\n",
    "                action = policy[observation].argmax()\n",
    "                observation, reward, done, info = env.step(action)\n",
    "\n",
    "                if not seen[observation]:\n",
    "                    seen[observation] = 1\n",
    "                    counts[observation] += 1\n",
    "\n",
    "                for obs in range(ns):\n",
    "                    if seen[obs]:\n",
    "                        sums[obs] += reward\n",
    "\n",
    "                if done:\n",
    "                    break\n",
    "            ######\n",
    "            counts[counts == 0] = 1\n",
    "            history[i] = count_rmse(sums / counts)\n",
    "            \n",
    "        counts[counts == 0] = 1\n",
    "        estimates +=  sums / counts\n",
    "    return estimates / outer_loop, history"
   ]
  },
  {
   "cell_type": "code",
   "execution_count": 178,
   "metadata": {
    "collapsed": true
   },
   "outputs": [],
   "source": [
    "def mc_with_running_mean(env, policy, count_rmse, alpha_coef = 1, n_episodes = 1000):\n",
    "    estimates = np.zeros(ns)\n",
    "    \n",
    "    history = np.zeros(n_episodes)\n",
    "    for i in range(n_episodes):\n",
    "        sums = np.zeros(ns)\n",
    "        seen = np.zeros(ns)\n",
    "        observation = env.reset()\n",
    "        episode_reward = 0\n",
    "        while True:                \n",
    "            action = policy[observation].argmax()\n",
    "            observation, reward, done, info = env.step(action)\n",
    "\n",
    "            if not seen[observation]:\n",
    "                seen[observation] = 1\n",
    "                sums[observation]  = -1 * episode_reward\n",
    "\n",
    "            for obs in range(ns):\n",
    "                if seen[obs]:\n",
    "                    sums[obs] += reward\n",
    "\n",
    "            episode_reward += reward\n",
    "            if done:\n",
    "                break\n",
    "\n",
    "        estimates +=  alpha_coef * (sums - estimates)\n",
    "        history[i] = count_rmse(estimates)\n",
    "        \n",
    "    return estimates, history"
   ]
  },
  {
   "cell_type": "code",
   "execution_count": 179,
   "metadata": {
    "collapsed": true
   },
   "outputs": [],
   "source": [
    "def simple_td(env, policy, count_rmse, alpha_coef, gamma = 1, n_episodes = 1000):\n",
    "    ns, na = policy.shape\n",
    "    estimates = np.random.normal(size = ns, scale = 0.01)\n",
    "    history = np.zeros(n_episodes)\n",
    "    for i in range(n_episodes):\n",
    "        observation = env.reset()\n",
    "        ##########\n",
    "        while True:\n",
    "            action = policy[observation].argmax()\n",
    "            new_observation, reward, done, info = env.step(action)\n",
    "            estimates[observation]+= alpha_coef * (reward + \\\n",
    "                                                   gamma * estimates[new_observation] - estimates[observation]) \n",
    "            observation = new_observation\n",
    "            \n",
    "            if done:\n",
    "                break\n",
    "        ##########\n",
    "        history[i] = count_rmse(estimates)\n",
    "    return estimates, history"
   ]
  },
  {
   "cell_type": "code",
   "execution_count": 259,
   "metadata": {
    "collapsed": false
   },
   "outputs": [],
   "source": [
    "def td(env, policy, count_rmse, alpha_coef = 1, lambda_coef = 0, gamma = 1, n_episodes = 1000, online = True):\n",
    "    ns, na = policy.shape\n",
    "    estimates = np.random.normal(size = ns, scale = 0.01) \n",
    "    history = np.zeros(n_episodes)\n",
    "    \n",
    "    for i in range(n_episodes):\n",
    "        traces = np.zeros(ns)\n",
    "        observation = env.reset()\n",
    "        \n",
    "        if not online:\n",
    "            changes = np.zeros(ns)\n",
    "            \n",
    "        ##########\n",
    "        while True:\n",
    "            traces[observation] += 1\n",
    "            \n",
    "            action = policy[observation].argmax()\n",
    "            new_observation, reward, done, info = env.step(action)\n",
    "            sigma = reward + gamma * estimates[new_observation] - estimates[observation]\n",
    "            \n",
    "            if online:\n",
    "                estimates[observation]  += alpha_coef * sigma * traces[observation]\n",
    "            else:\n",
    "                changes[observation] += alpha_coef * sigma * traces[observation]\n",
    "            \n",
    "            traces *= gamma * lambda_coef\n",
    "            observation = new_observation\n",
    "            \n",
    "            if done:\n",
    "                break\n",
    "        ##########\n",
    "                \n",
    "        if not online:\n",
    "            estimates += changes\n",
    "            \n",
    "        history[i] = count_rmse(estimates)\n",
    "            \n",
    "    return estimates, history"
   ]
  },
  {
   "cell_type": "code",
   "execution_count": null,
   "metadata": {
    "collapsed": true
   },
   "outputs": [],
   "source": []
  },
  {
   "cell_type": "code",
   "execution_count": 193,
   "metadata": {
    "collapsed": false
   },
   "outputs": [
    {
     "data": {
      "text/plain": [
       "0.13234125777968198"
      ]
     },
     "execution_count": 193,
     "metadata": {},
     "output_type": "execute_result"
    }
   ],
   "source": [
    "rmse(real_values, simple_mc_values)"
   ]
  },
  {
   "cell_type": "markdown",
   "metadata": {},
   "source": [
    "### Графики"
   ]
  },
  {
   "cell_type": "code",
   "execution_count": 213,
   "metadata": {
    "collapsed": false,
    "scrolled": true
   },
   "outputs": [],
   "source": [
    "simple_mc_values, simple_mc_history = mc_with_simple_mean(env, fixed_policy, lambda x: rmse(real_values, x),\n",
    "                                       outer_loop = 1, n_episodes = 2500)"
   ]
  },
  {
   "cell_type": "code",
   "execution_count": 232,
   "metadata": {
    "collapsed": true
   },
   "outputs": [],
   "source": [
    "mc_values, mc_history = mc_with_running_mean(env, fixed_policy, lambda x: rmse(real_values, x),\n",
    "                           alpha_coef = 0.005,  n_episodes = 2500)"
   ]
  },
  {
   "cell_type": "code",
   "execution_count": 253,
   "metadata": {
    "collapsed": true
   },
   "outputs": [],
   "source": [
    "simple_td_values, simple_td_history = td(env, fixed_policy, lambda x: rmse(real_values, x),\n",
    "                           alpha_coef = 0.4, lambda_coef = 0, n_episodes = 2500)"
   ]
  },
  {
   "cell_type": "code",
   "execution_count": 288,
   "metadata": {
    "collapsed": false
   },
   "outputs": [],
   "source": [
    "likemc_td_values, likemc_td_history = td(env, fixed_policy, lambda x: rmse(real_values, x),\n",
    "                           alpha_coef = 0.005, lambda_coef = 1, n_episodes = 2500, online = False)"
   ]
  },
  {
   "cell_type": "code",
   "execution_count": null,
   "metadata": {
    "collapsed": true
   },
   "outputs": [],
   "source": []
  },
  {
   "cell_type": "code",
   "execution_count": 281,
   "metadata": {
    "collapsed": false
   },
   "outputs": [],
   "source": [
    "td_values, td_history = td(env, fixed_policy, lambda x: rmse(real_values, x),\n",
    "                           alpha_coef = 0.5, lambda_coef = 0.5, n_episodes = 2500, online = True)"
   ]
  },
  {
   "cell_type": "code",
   "execution_count": 212,
   "metadata": {
    "collapsed": false
   },
   "outputs": [
    {
     "data": {
      "text/plain": [
       "(3000,)"
      ]
     },
     "execution_count": 212,
     "metadata": {},
     "output_type": "execute_result"
    }
   ],
   "source": [
    "simple_mc_history.shape"
   ]
  },
  {
   "cell_type": "code",
   "execution_count": 289,
   "metadata": {
    "collapsed": false
   },
   "outputs": [
    {
     "data": {
      "text/plain": [
       "<matplotlib.text.Text at 0x7f1bde859890>"
      ]
     },
     "execution_count": 289,
     "metadata": {},
     "output_type": "execute_result"
    },
    {
     "data": {
      "image/png": "[encoded data removed]",
      "text/plain": [
       "<matplotlib.figure.Figure at 0x7f1bde9a8210>"
      ]
     },
     "metadata": {},
     "output_type": "display_data"
    }
   ],
   "source": [
    "plt.figure(figsize=(12,7))\n",
    "plt.plot(np.arange(mc_history.shape[0]), mc_history, label = 'mc: running mean, alpha = 0.005')\n",
    "plt.plot(np.arange(simple_mc_history.shape[0]), simple_mc_history, label = 'mc: usual')\n",
    "plt.plot(np.arange(simple_td_history.shape[0]), simple_td_history, label = 'online td(0), alpha = 0.4')\n",
    "plt.plot(np.arange(likemc_td_history.shape[0]), likemc_td_history, label = 'offline td(1), alpha = 0.005')\n",
    "plt.plot(np.arange(td_history.shape[0]), td_history, label = 'online td(0.5), alpha = 0.5')\n",
    "\n",
    "#plt.plot(np.arange(td_history.shape[0]), td_history, label = 'offline td(1)')\n",
    "#plt.plot(np.arange(simple_mc_history.shape[0]), simple_mc_history, label = 'simple mc')\n",
    "plt.legend(loc='upper right', fontsize=14)\n",
    "plt.xlabel('iterations', fontsize=14)\n",
    "plt.ylabel('rmse', fontsize=14)"
   ]
  },
  {
   "cell_type": "code",
   "execution_count": null,
   "metadata": {
    "collapsed": true
   },
   "outputs": [],
   "source": []
  },
  {
   "cell_type": "code",
   "execution_count": null,
   "metadata": {
    "collapsed": true
   },
   "outputs": [],
   "source": []
  },
  {
   "cell_type": "markdown",
   "metadata": {
    "collapsed": true
   },
   "source": [
    "## Model free control"
   ]
  },
  {
   "cell_type": "code",
   "execution_count": 31,
   "metadata": {
    "collapsed": false
   },
   "outputs": [],
   "source": [
    "def check_solution(env, policy, n_episodes = 100, max_steps = 100, to_wrap = False, to_send = False, name2save = ''):\n",
    "    ns = env.observation_space.n\n",
    "    na = env.action_space.n\n",
    "    count_dones = np.zeros(n_episodes)\n",
    "    count_steps = np.zeros(n_episodes)\n",
    "    if to_wrap:\n",
    "        env = wrappers.Monitor(env, name2save)\n",
    "        \n",
    "    for i in range(n_episodes):\n",
    "        observation = env.reset() \n",
    "        for step in range(max_steps): \n",
    "            action = policy[observation].argmax()\n",
    "            observation, reward, done, info = env.step(action)\n",
    "            count_dones[i] += reward\n",
    "            count_steps[i] += 1\n",
    "            if done:\n",
    "                break\n",
    "    return np.mean(count_dones)\n",
    "    #print(np.mean(count_steps))\n",
    "    env.close()\n",
    "    if to_wrap and to_send:\n",
    "        gym.upload(name2save, api_key='sk_bExD4VfCSQukGlQkYKBhdQ')"
   ]
  },
  {
   "cell_type": "markdown",
   "metadata": {},
   "source": [
    "## On-Policy MC"
   ]
  },
  {
   "cell_type": "code",
   "execution_count": 28,
   "metadata": {
    "collapsed": true
   },
   "outputs": [],
   "source": [
    "from collections import defaultdict\n",
    "\n",
    "def on_policy_mc(env, eps = 1, eps_decay = 0.995, gamma = 1, kappa = 0.01, n_episode = 1000):\n",
    "    eps = 1.0 * eps\n",
    "    \n",
    "    ns = env.observation_space.n\n",
    "    na = env.action_space.n\n",
    "    Q = np.zeros((ns, na))\n",
    "    \n",
    "    ### starting random policy\n",
    "    policy = eps * np.ones((ns, na)) / na\n",
    "    max_ind = np.random.choice(np.arange(na), size = ns)\n",
    "    policy[np.arange(ns), max_ind] = 1 + eps / na - eps\n",
    "    \n",
    "    returns_sum = defaultdict(float)\n",
    "    returns_count = defaultdict(float)\n",
    "    \n",
    "    avg_reward = None\n",
    "\n",
    "    for i in range(n_episode):\n",
    "        if i % 10000 == 0:\n",
    "            print(i)\n",
    "        history = []\n",
    "        s = env.reset()\n",
    "        step = 0 \n",
    "        ##########\n",
    "        while True:\n",
    "            a = np.random.choice(na, 1, p = policy[s])[0]\n",
    "            new_s, reward, done, info = env.step(a)\n",
    "            history.append((s, a, reward))\n",
    "            s = new_s\n",
    "            step += 1\n",
    "            if done:\n",
    "                # Running average of the terminal reward, which is used for controlling an exploration rate\n",
    "                # (This idea of controlling exploration rate by the terminal reward is suggested by JKCooper2)\n",
    "                # See https://gym.openai.com/evaluations/eval_xSOlwrBsQDqUW7y6lJOevQ\n",
    "                if avg_reward == None:\n",
    "                    avg_reward = reward\n",
    "                else:\n",
    "                    avg_reward = kappa * reward + (1 - kappa) * avg_reward\n",
    "                if reward > avg_reward:\n",
    "                    # Bias the current policy toward exploitation\n",
    "                    eps *= eps_decay\n",
    "            if done:\n",
    "                break\n",
    "        ##########\n",
    "        sa_in_episode = set([(x[0], x[1]) for x in history])\n",
    "        for state, action in sa_in_episode:\n",
    "            sa_pair = (state, action)\n",
    "            first_occurence_idx = next(i for i,x in enumerate(history)\n",
    "                                       if x[0] == state and x[1] == action)\n",
    "            \n",
    "            G = sum([x[2] * (gamma ** i) for i,x in enumerate(history[first_occurence_idx:])])\n",
    "            \n",
    "            returns_sum[sa_pair] += G\n",
    "            returns_count[sa_pair] += 1.0\n",
    "            Q[state][action] = returns_sum[sa_pair] / returns_count[sa_pair]\n",
    "        \n",
    "        policy = eps * np.ones((ns, na)) / na\n",
    "        best_actions = Q.argmax(axis = 1)\n",
    "        policy[np.arange(ns), best_actions] = 1 + eps / na - eps\n",
    "    \n",
    "    policy = np.zeros((ns, na))\n",
    "    policy[np.arange(ns), Q.argmax(axis=1)] = 1\n",
    "    return Q"
   ]
  },
  {
   "cell_type": "code",
   "execution_count": 26,
   "metadata": {
    "collapsed": false
   },
   "outputs": [
    {
     "name": "stderr",
     "output_type": "stream",
     "text": [
      "[2017-07-03 16:40:08,817] Making new env: FrozenLake-v0\n"
     ]
    }
   ],
   "source": [
    "name = 'FrozenLake-v0'\n",
    "env = gym.make(name)"
   ]
  },
  {
   "cell_type": "code",
   "execution_count": 48,
   "metadata": {
    "collapsed": false,
    "scrolled": true
   },
   "outputs": [
    {
     "name": "stdout",
     "output_type": "stream",
     "text": [
      "0\n",
      "10000\n",
      "20000\n",
      "CPU times: user 32.1 s, sys: 4 ms, total: 32.1 s\n",
      "Wall time: 32.1 s\n"
     ]
    }
   ],
   "source": [
    "%%time\n",
    "mc_policy = on_policy_mc(env, n_episode = 30000)"
   ]
  },
  {
   "cell_type": "code",
   "execution_count": 55,
   "metadata": {
    "collapsed": false
   },
   "outputs": [
    {
     "data": {
      "text/plain": [
       "0.49099999999999999"
      ]
     },
     "execution_count": 55,
     "metadata": {},
     "output_type": "execute_result"
    }
   ],
   "source": [
    "check_solution(env, mc_policy, n_episodes = 1000, max_steps = 250,\n",
    "              name2save = 'sarsa')"
   ]
  },
  {
   "cell_type": "code",
   "execution_count": null,
   "metadata": {
    "collapsed": true
   },
   "outputs": [],
   "source": []
  },
  {
   "cell_type": "code",
   "execution_count": 3,
   "metadata": {
    "collapsed": true
   },
   "outputs": [],
   "source": [
    "def find_terminal_states(env):\n",
    "    ns = env.observation_space.n\n",
    "    na = env.action_space.n\n",
    "    \n",
    "    terminal_states = np.zeros(ns)\n",
    "    \n",
    "    for s in range(ns):\n",
    "        for a in range(na):\n",
    "            current_transitions = env.P[s][a]\n",
    "            for p_trans,  next_s, rew, done in current_transitions:\n",
    "                if done:\n",
    "                    terminal_states[next_s] = 1\n",
    "    return terminal_states"
   ]
  },
  {
   "cell_type": "code",
   "execution_count": 144,
   "metadata": {
    "collapsed": false
   },
   "outputs": [
    {
     "data": {
      "text/plain": [
       "array([ 0.,  0.,  0.,  0.,  0.,  1.,  0.,  1.,  0.,  0.,  0.,  1.,  1.,\n",
       "        0.,  0.,  1.])"
      ]
     },
     "execution_count": 144,
     "metadata": {},
     "output_type": "execute_result"
    }
   ],
   "source": [
    "find_terminal_states(env)"
   ]
  },
  {
   "cell_type": "code",
   "execution_count": 4,
   "metadata": {
    "collapsed": true
   },
   "outputs": [],
   "source": [
    "def get_eps_greedy_policy(Q, eps):\n",
    "    ns, na = Q.shape\n",
    "    policy = eps * np.ones((ns, na)) / na\n",
    "    best_actions = Q.argmax(axis = 1)\n",
    "    policy[np.arange(ns), best_actions] = 1 + eps / na - eps\n",
    "    return policy"
   ]
  },
  {
   "cell_type": "code",
   "execution_count": 143,
   "metadata": {
    "collapsed": true
   },
   "outputs": [],
   "source": [
    "def select_a_with_epsilon_greedy(curr_s, q_value, epsilon=0.1):\n",
    "    a = np.argmax(q_value[curr_s, :])\n",
    "    if np.random.rand() < epsilon:\n",
    "        a = np.random.randint(q_value.shape[1])\n",
    "    return a"
   ]
  },
  {
   "cell_type": "markdown",
   "metadata": {},
   "source": [
    "## Sarsa"
   ]
  },
  {
   "cell_type": "code",
   "execution_count": 365,
   "metadata": {
    "collapsed": true
   },
   "outputs": [],
   "source": [
    "def sarsa(env, n_episodes = 1, eps = 1.0, eps_decay = 0.999,\n",
    "          gamma = 0.99, alpha = 0.1, kappa = 0.01, max_steps = 100, print_options = True):\n",
    "    eps *= 1.0\n",
    "    alpha *= 1.0\n",
    "    \n",
    "    ns = env.observation_space.n\n",
    "    na = env.action_space.n\n",
    "\n",
    "    terminal_states = find_terminal_states(env)\n",
    "    Q = np.zeros((ns, na))\n",
    "    \n",
    "    policy = get_eps_greedy_policy(Q, eps)\n",
    "    \n",
    "    avg_reward = None\n",
    "\n",
    "    for i in range(n_episodes):\n",
    "        if i % 1000 == 0 and print_options:\n",
    "            print(i)\n",
    "        s = env.reset()\n",
    "        a = np.random.choice(na, 1, p = policy[s])[0]\n",
    "        for step in range(max_steps):\n",
    "            new_s, reward, done, info = env.step(a)\n",
    "            #new_a = np.random.choice(na, 1, p = policy[new_s])[0]\n",
    "            new_a = select_a_with_epsilon_greedy(new_s, Q, epsilon = eps)\n",
    "            \n",
    "            if done:\n",
    "                # Running average of the terminal reward, which is used for controlling an exploration rate\n",
    "                # (This idea of controlling exploration rate by the terminal reward is suggested by JKCooper2)\n",
    "                # See https://gym.openai.com/evaluations/eval_xSOlwrBsQDqUW7y6lJOevQ\n",
    "                kappa = 0.01\n",
    "                if avg_reward == None:\n",
    "                    avg_reward = reward\n",
    "                else:\n",
    "                    avg_reward = kappa * reward + (1 - kappa) * avg_reward\n",
    "                if reward > avg_reward:\n",
    "                    # Bias the current policy toward exploitation\n",
    "                    eps *= eps_decay\n",
    "                    \n",
    "            Q[s][a] += alpha  * (reward + gamma * Q[new_s][new_a] - Q[s][a])\n",
    "            s = new_s\n",
    "            a = new_a\n",
    "            #eps *= eps_decay\n",
    "            policy = get_eps_greedy_policy(Q, eps)\n",
    "            if done:\n",
    "                break\n",
    "    return get_eps_greedy_policy(Q, 0.0)"
   ]
  },
  {
   "cell_type": "code",
   "execution_count": 388,
   "metadata": {
    "collapsed": true
   },
   "outputs": [],
   "source": [
    "import itertools\n",
    "def find_sarsa_hyperparams(env):\n",
    "    alphas = [0.01, 0.1, 0.5]\n",
    "    eps = [0.5, 0.7, 1.0]\n",
    "    kappas = [0.001, 0.01, 0.1]\n",
    "    n_episodes = [20000]\n",
    "    eps_decays = [1.0, 0.995]\n",
    "    \n",
    "    best_score = 0\n",
    "    history = []\n",
    "    for (alpha, eps,eps_decay, kappa, n) in tqdm(itertools.product(alphas, eps, eps_decays, kappas, n_episodes)):\n",
    "        #print(i)\n",
    "        policy = sarsa(env, n_episodes = n, eps = eps, eps_decay = eps_decay,  alpha = alpha, kappa = kappa,\n",
    "                      print_options = False)\n",
    "        score = check_solution(env,policy, n_episodes=250)\n",
    "        history.append((alpha, eps,eps_decay, kappa, n, score))\n",
    "        if score > best_score:\n",
    "            print(\"best score params:\", alpha, eps,eps_decay, kappa, n)\n",
    "            best_score = score\n",
    "    return history"
   ]
  },
  {
   "cell_type": "markdown",
   "metadata": {},
   "source": [
    "#### Подбор гиперпараметров"
   ]
  },
  {
   "cell_type": "code",
   "execution_count": 389,
   "metadata": {
    "collapsed": false,
    "scrolled": false
   },
   "outputs": [
    {
     "name": "stderr",
     "output_type": "stream",
     "text": [
      "7it [03:07, 25.77s/it]"
     ]
    },
    {
     "name": "stdout",
     "output_type": "stream",
     "text": [
      "('best score params:', 0.01, 0.7, 1.0, 0.001, 20000)\n"
     ]
    },
    {
     "name": "stderr",
     "output_type": "stream",
     "text": [
      "28it [11:08, 25.69s/it]"
     ]
    },
    {
     "name": "stdout",
     "output_type": "stream",
     "text": [
      "('best score params:', 0.1, 0.7, 0.995, 0.001, 20000)\n"
     ]
    },
    {
     "name": "stderr",
     "output_type": "stream",
     "text": [
      "\r",
      "29it [11:42, 28.19s/it]"
     ]
    },
    {
     "name": "stdout",
     "output_type": "stream",
     "text": [
      "('best score params:', 0.1, 0.7, 0.995, 0.01, 20000)\n"
     ]
    },
    {
     "name": "stderr",
     "output_type": "stream",
     "text": [
      "54it [21:08, 20.06s/it]\n"
     ]
    }
   ],
   "source": [
    "history = find_sarsa_hyperparams(env)"
   ]
  },
  {
   "cell_type": "code",
   "execution_count": 390,
   "metadata": {
    "collapsed": false
   },
   "outputs": [
    {
     "name": "stdout",
     "output_type": "stream",
     "text": [
      "0\n",
      "1000\n",
      "2000\n",
      "3000\n",
      "4000\n",
      "5000\n",
      "6000\n",
      "7000\n",
      "8000\n",
      "9000\n",
      "10000\n",
      "11000\n",
      "12000\n",
      "13000\n",
      "14000\n",
      "15000\n",
      "16000\n",
      "17000\n",
      "18000\n",
      "19000\n"
     ]
    }
   ],
   "source": [
    "np.random.seed(42)\n",
    "policy_best = sarsa(env, n_episodes = 20000, eps = 0.7, eps_decay = 0.995,  alpha = 0.1, kappa = 0.01)"
   ]
  },
  {
   "cell_type": "markdown",
   "metadata": {
    "collapsed": true
   },
   "source": [
    "#### Проверка и загрузка FrozenLake8x8-v0"
   ]
  },
  {
   "cell_type": "code",
   "execution_count": 326,
   "metadata": {
    "collapsed": false
   },
   "outputs": [
    {
     "name": "stderr",
     "output_type": "stream",
     "text": [
      "[2017-06-30 16:50:43,426] Making new env: FrozenLake8x8-v0\n"
     ]
    }
   ],
   "source": [
    "name = 'FrozenLake8x8-v0'\n",
    "env = gym.make(name)"
   ]
  },
  {
   "cell_type": "code",
   "execution_count": 354,
   "metadata": {
    "collapsed": false,
    "scrolled": true
   },
   "outputs": [
    {
     "name": "stderr",
     "output_type": "stream",
     "text": [
      "[2017-06-30 17:02:58,587] Attempted to wrap env <FrozenLakeEnv instance> after .configure() was called. All wrappers must be applied before calling .configure()\n",
      "[2017-06-30 17:02:58,592] Creating monitor directory sarsa\n",
      "[2017-06-30 17:02:58,597] Starting new video recorder writing to /home/liza/Документы/Python-projects/RL/sarsa/openaigym.video.0.2888.video000000.json\n",
      "[2017-06-30 17:02:58,618] Starting new video recorder writing to /home/liza/Документы/Python-projects/RL/sarsa/openaigym.video.0.2888.video000001.json\n",
      "[2017-06-30 17:02:58,653] Starting new video recorder writing to /home/liza/Документы/Python-projects/RL/sarsa/openaigym.video.0.2888.video000008.json\n",
      "[2017-06-30 17:02:58,706] Starting new video recorder writing to /home/liza/Документы/Python-projects/RL/sarsa/openaigym.video.0.2888.video000027.json\n",
      "[2017-06-30 17:02:58,777] Starting new video recorder writing to /home/liza/Документы/Python-projects/RL/sarsa/openaigym.video.0.2888.video000064.json\n",
      "[2017-06-30 17:02:58,857] Starting new video recorder writing to /home/liza/Документы/Python-projects/RL/sarsa/openaigym.video.0.2888.video000125.json\n",
      "[2017-06-30 17:02:58,980] Starting new video recorder writing to /home/liza/Документы/Python-projects/RL/sarsa/openaigym.video.0.2888.video000216.json\n",
      "[2017-06-30 17:02:59,122] Starting new video recorder writing to /home/liza/Документы/Python-projects/RL/sarsa/openaigym.video.0.2888.video000343.json\n",
      "[2017-06-30 17:02:59,321] Starting new video recorder writing to /home/liza/Документы/Python-projects/RL/sarsa/openaigym.video.0.2888.video000512.json\n",
      "[2017-06-30 17:02:59,573] Starting new video recorder writing to /home/liza/Документы/Python-projects/RL/sarsa/openaigym.video.0.2888.video000729.json\n",
      "[2017-06-30 17:02:59,936] Finished writing results. You can upload them to the scoreboard via gym.upload('/home/liza/\\xd0\\x94\\xd0\\xbe\\xd0\\xba\\xd1\\x83\\xd0\\xbc\\xd0\\xb5\\xd0\\xbd\\xd1\\x82\\xd1\\x8b/Python-projects/RL/sarsa')\n",
      "[2017-06-30 17:02:59,939] [FrozenLake8x8-v0] Uploading 1000 episodes of training data\n"
     ]
    },
    {
     "name": "stdout",
     "output_type": "stream",
     "text": [
      "0.84\n",
      "82.719\n"
     ]
    },
    {
     "name": "stderr",
     "output_type": "stream",
     "text": [
      "[2017-06-30 17:03:02,759] [FrozenLake8x8-v0] Uploading videos of 10 training episodes (3058 bytes)\n",
      "[2017-06-30 17:03:03,362] [FrozenLake8x8-v0] Creating evaluation object from sarsa with learning curve and training video\n",
      "[2017-06-30 17:03:03,977] \n",
      "****************************************************\n",
      "You successfully uploaded your evaluation on FrozenLake8x8-v0 to\n",
      "OpenAI Gym! You can find it at:\n",
      "\n",
      "    https://gym.openai.com/evaluations/eval_n8gWOgQD60qADd9H3LA\n",
      "\n",
      "****************************************************\n"
     ]
    }
   ],
   "source": [
    "check_solution(env, policy_star_0, n_episodes = 1000, max_steps = 250, to_wrap = True, to_send = True, \n",
    "              name2save = 'sarsa')"
   ]
  },
  {
   "cell_type": "code",
   "execution_count": null,
   "metadata": {
    "collapsed": true
   },
   "outputs": [],
   "source": []
  },
  {
   "cell_type": "code",
   "execution_count": null,
   "metadata": {
    "collapsed": true
   },
   "outputs": [],
   "source": []
  },
  {
   "cell_type": "code",
   "execution_count": null,
   "metadata": {
    "collapsed": true
   },
   "outputs": [],
   "source": []
  },
  {
   "cell_type": "code",
   "execution_count": null,
   "metadata": {
    "collapsed": true
   },
   "outputs": [],
   "source": []
  },
  {
   "cell_type": "code",
   "execution_count": null,
   "metadata": {
    "collapsed": true
   },
   "outputs": [],
   "source": []
  },
  {
   "cell_type": "code",
   "execution_count": null,
   "metadata": {
    "collapsed": true
   },
   "outputs": [],
   "source": []
  },
  {
   "cell_type": "code",
   "execution_count": null,
   "metadata": {
    "collapsed": true
   },
   "outputs": [],
   "source": []
  },
  {
   "cell_type": "code",
   "execution_count": null,
   "metadata": {
    "collapsed": true
   },
   "outputs": [],
   "source": []
  }
 ],
 "metadata": {
  "kernelspec": {
   "display_name": "Python 2",
   "language": "python",
   "name": "python2"
  },
  "language_info": {
   "codemirror_mode": {
    "name": "ipython",
    "version": 2
   },
   "file_extension": ".py",
   "mimetype": "text/x-python",
   "name": "python",
   "nbconvert_exporter": "python",
   "pygments_lexer": "ipython2",
   "version": "2.7.13"
  }
 },
 "nbformat": 4,
 "nbformat_minor": 2
}
