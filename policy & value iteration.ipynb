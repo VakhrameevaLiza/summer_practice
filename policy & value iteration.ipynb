{
 "cells": [
  {
   "cell_type": "code",
   "execution_count": 2,
   "metadata": {
    "collapsed": false
   },
   "outputs": [],
   "source": [
    "import gym\n",
    "import numpy as np\n",
    "from IPython.display import Image\n",
    "from tqdm import tqdm"
   ]
  },
  {
   "cell_type": "code",
   "execution_count": 3,
   "metadata": {
    "collapsed": false
   },
   "outputs": [],
   "source": [
    "def get_mean_rewards(rewards, transitions, policy):\n",
    "    return (rewards * transitions * policy[:,:,np.newaxis]).sum(axis = (1,2))"
   ]
  },
  {
   "cell_type": "code",
   "execution_count": 4,
   "metadata": {
    "collapsed": true
   },
   "outputs": [],
   "source": [
    "def get_mean_transitions(rewards, transitions, policy):\n",
    "    return (transitions * policy[:,:,np.newaxis]).sum(axis = (1))"
   ]
  },
  {
   "cell_type": "code",
   "execution_count": 136,
   "metadata": {
    "collapsed": false
   },
   "outputs": [],
   "source": [
    "def evaluate_value_func(rewards, transitions, policy, gamma, max_iter, tolerance):\n",
    "    mean_rewards = get_mean_rewards(rewards, transitions, policy)\n",
    "    mean_transitions = get_mean_transitions(rewards, transitions, policy)\n",
    "\n",
    "    v = np.zeros(rewards.shape[0])\n",
    "    for k in range(max_iter):\n",
    "        old_v = v\n",
    "        v = mean_rewards + gamma * mean_transitions.dot(v)\n",
    "    return v"
   ]
  },
  {
   "cell_type": "code",
   "execution_count": 6,
   "metadata": {
    "collapsed": false
   },
   "outputs": [],
   "source": [
    "def do_policy_iteration(rewards, transitions, gamma = 1, \n",
    "                        max_iter_eval = 100, max_iter_update = 1000, tolerance = 10e-8):\n",
    "    ns = rewards.shape[0]\n",
    "    na = rewards.shape[1]\n",
    "    policy = np.zeros((ns, na))\n",
    "    \n",
    "    for i in range(max_iter_update):\n",
    "        v = evaluate_value_func(rewards, transitions, policy, gamma, max_iter_eval, tolerance) \n",
    "        q = (transitions * (rewards + gamma * v[np.newaxis, np.newaxis, :]) ).sum(axis = 2)\n",
    "       \n",
    "        new_policy = np.zeros_like(policy)\n",
    "        new_policy[np.arange(ns), np.argmax(q, axis = 1)] = 1\n",
    "        \n",
    "        if np.array_equal(policy, new_policy):\n",
    "            break\n",
    "        policy = np.copy(new_policy)\n",
    "        \n",
    "    return policy"
   ]
  },
  {
   "cell_type": "code",
   "execution_count": 146,
   "metadata": {
    "collapsed": false
   },
   "outputs": [],
   "source": [
    "def do_value_iteration(rewards, transitions, gamma = 1, \n",
    "                       max_iter_update = 1000, tolerance = 10e-8):\n",
    "    ns = rewards.shape[0]\n",
    "    na = rewards.shape[1]\n",
    "    v = np.zeros(ns)\n",
    "    for _ in range(max_iter_update):\n",
    "        mean_rewards_by_action = (rewards * transitions).sum(axis = (2))\n",
    "        mean_transitions_by_action = transitions\n",
    "\n",
    "        s = mean_rewards_by_action + gamma * mean_transitions_by_action.dot(v)\n",
    "        v = s[np.arange(ns), s.argmax(axis=1)]\n",
    "        \n",
    "    q = (transitions * (rewards + gamma * v[np.newaxis, np.newaxis, :]) ).sum(axis = 2)\n",
    "    policy = np.zeros((ns, na))\n",
    "    policy[np.arange(ns), np.argmax(q, axis = 1)] = 1\n",
    "        \n",
    "    return policy"
   ]
  },
  {
   "cell_type": "code",
   "execution_count": 8,
   "metadata": {
    "collapsed": false
   },
   "outputs": [
    {
     "data": {
      "text/plain": [
       "array([[ 3.,  3.,  3.,  3.,  3.],\n",
       "       [ 3.,  3.,  3.,  3.,  3.]])"
      ]
     },
     "execution_count": 8,
     "metadata": {},
     "output_type": "execute_result"
    }
   ],
   "source": [
    "np.ones((2, 5, 3)).dot(np.ones(3))"
   ]
  },
  {
   "cell_type": "code",
   "execution_count": 9,
   "metadata": {
    "collapsed": false
   },
   "outputs": [
    {
     "data": {
      "text/plain": [
       "array([ 1.,  1.,  1.])"
      ]
     },
     "execution_count": 9,
     "metadata": {},
     "output_type": "execute_result"
    }
   ],
   "source": [
    "np.ones(3)"
   ]
  },
  {
   "cell_type": "code",
   "execution_count": 10,
   "metadata": {
    "collapsed": true
   },
   "outputs": [],
   "source": [
    "def get_params(env, ns, na):\n",
    "    transitions = np.zeros([ns, na, ns])\n",
    "    rewards = np.zeros([ns, na, ns])\n",
    "    for s in range(ns):\n",
    "        for a in range(na):\n",
    "            current_transitions = env.P[s][a]\n",
    "            for p_trans,  next_s, rew, done in current_transitions:\n",
    "                transitions[s,a,next_s] += p_trans\n",
    "                rewards[s,a,next_s] = rew\n",
    "            transitions[s,a,:]/=np.sum(transitions[s,a,:])\n",
    "    return rewards, transitions"
   ]
  },
  {
   "cell_type": "code",
   "execution_count": 52,
   "metadata": {
    "collapsed": false
   },
   "outputs": [],
   "source": [
    "def solve_env(env, method = 'policy_iter', to_wrap = False, to_send = False, max_k = 100):\n",
    "    env.reset()\n",
    "    \n",
    "    ns = env.observation_space.n\n",
    "    na = env.action_space.n\n",
    "    rewards, transitions = get_params(env, ns, na)\n",
    "    \n",
    "    if method == 'value_iter':\n",
    "        best_policy = do_value_iteration(rewards, transitions, max_iter_update = max_k, gamma = 0.999)\n",
    "    else:\n",
    "        best_policy = do_policy_iteration(rewards, transitions,max_iter_update = max_k,  gamma = 0.999)\n",
    "    \n",
    "    return best_policy"
   ]
  },
  {
   "cell_type": "code",
   "execution_count": 46,
   "metadata": {
    "collapsed": true
   },
   "outputs": [],
   "source": [
    "from helper import check_solution"
   ]
  },
  {
   "cell_type": "markdown",
   "metadata": {},
   "source": [
    "## Среда FrozenLake8x8"
   ]
  },
  {
   "cell_type": "code",
   "execution_count": 50,
   "metadata": {
    "collapsed": false
   },
   "outputs": [
    {
     "name": "stderr",
     "output_type": "stream",
     "text": [
      "[2017-07-03 14:53:06,099] Making new env: FrozenLake8x8-v0\n"
     ]
    }
   ],
   "source": [
    "env = gym.make('FrozenLake8x8-v0')"
   ]
  },
  {
   "cell_type": "markdown",
   "metadata": {},
   "source": [
    "#### Policy iteration"
   ]
  },
  {
   "cell_type": "code",
   "execution_count": 73,
   "metadata": {
    "collapsed": false,
    "scrolled": false
   },
   "outputs": [],
   "source": [
    "policy1 = solve_env(env, method = 'policy_iter')"
   ]
  },
  {
   "cell_type": "code",
   "execution_count": 99,
   "metadata": {
    "collapsed": false
   },
   "outputs": [
    {
     "data": {
      "text/plain": [
       "0.6100000000000001"
      ]
     },
     "execution_count": 99,
     "metadata": {},
     "output_type": "execute_result"
    }
   ],
   "source": [
    "np.random.seed(0)\n",
    "check_solution(env, policy1)"
   ]
  },
  {
   "cell_type": "markdown",
   "metadata": {},
   "source": [
    "#### Value iteration"
   ]
  },
  {
   "cell_type": "code",
   "execution_count": 148,
   "metadata": {
    "collapsed": false
   },
   "outputs": [],
   "source": [
    "policy2 = solve_env(env, method = 'value_iter')"
   ]
  },
  {
   "cell_type": "code",
   "execution_count": 149,
   "metadata": {
    "collapsed": false
   },
   "outputs": [
    {
     "data": {
      "text/plain": [
       "0.63000000000000012"
      ]
     },
     "execution_count": 149,
     "metadata": {},
     "output_type": "execute_result"
    }
   ],
   "source": [
    "np.random.seed(0)\n",
    "check_solution(env, policy2)"
   ]
  },
  {
   "cell_type": "code",
   "execution_count": null,
   "metadata": {
    "collapsed": true
   },
   "outputs": [],
   "source": []
  },
  {
   "cell_type": "code",
   "execution_count": 141,
   "metadata": {
    "collapsed": false
   },
   "outputs": [],
   "source": [
    "not_equals = np.zeros_like(policy1)\n",
    "not_equals[policy1 != policy3] = 1"
   ]
  },
  {
   "cell_type": "code",
   "execution_count": 142,
   "metadata": {
    "collapsed": false
   },
   "outputs": [
    {
     "data": {
      "text/plain": [
       "(array([ 0,  0,  1,  1,  2,  2,  3,  3,  4,  4,  5,  5,  6,  6,  7,  7,  8,\n",
       "         8,  9,  9, 10, 10, 11, 11, 12, 12, 13, 13, 14, 14, 15, 15, 16, 16,\n",
       "        17, 17, 20, 20, 21, 21, 22, 22, 23, 23, 24, 24, 25, 25, 26, 26, 27,\n",
       "        27, 30, 30, 31, 31, 32, 32, 33, 33, 36, 36, 37, 37, 38, 38, 39, 39,\n",
       "        43, 43, 44, 44, 47, 47, 50, 50, 55, 55, 57, 57, 60, 60, 61, 61]),\n",
       " array([0, 3, 0, 2, 0, 2, 0, 2, 0, 2, 0, 2, 0, 2, 0, 2, 0, 3, 0, 3, 0, 3, 0,\n",
       "        3, 0, 3, 0, 2, 0, 2, 0, 1, 0, 3, 0, 3, 0, 2, 0, 3, 0, 2, 0, 2, 0, 3,\n",
       "        0, 3, 0, 3, 0, 1, 0, 2, 0, 2, 0, 3, 0, 3, 0, 2, 0, 1, 0, 3, 0, 2, 0,\n",
       "        1, 0, 3, 0, 2, 0, 1, 0, 2, 0, 1, 0, 1, 0, 2]))"
      ]
     },
     "execution_count": 142,
     "metadata": {},
     "output_type": "execute_result"
    }
   ],
   "source": [
    "not_equals.nonzero()"
   ]
  },
  {
   "cell_type": "markdown",
   "metadata": {},
   "source": [
    "#### Загрузим решение"
   ]
  },
  {
   "cell_type": "code",
   "execution_count": 218,
   "metadata": {
    "collapsed": false
   },
   "outputs": [
    {
     "name": "stderr",
     "output_type": "stream",
     "text": [
      "[2017-06-25 12:56:30,200] Making new env: FrozenLake8x8-v0\n",
      "[2017-06-25 12:56:30,274] Attempted to wrap env <FrozenLakeEnv instance> after .configure() was called. All wrappers must be applied before calling .configure()\n",
      "[2017-06-25 12:56:30,275] Creating monitor directory FrozenLake8x8-v0_solution_value_iter\n",
      "[2017-06-25 12:56:30,277] Starting new video recorder writing to /home/liza/Документы/Python-projects/RL/FrozenLake8x8-v0_solution_value_iter/openaigym.video.2.4312.video000000.json\n",
      "[2017-06-25 12:56:30,307] Starting new video recorder writing to /home/liza/Документы/Python-projects/RL/FrozenLake8x8-v0_solution_value_iter/openaigym.video.2.4312.video000001.json\n",
      "[2017-06-25 12:56:30,345] Starting new video recorder writing to /home/liza/Документы/Python-projects/RL/FrozenLake8x8-v0_solution_value_iter/openaigym.video.2.4312.video000008.json\n",
      "[2017-06-25 12:56:30,410] Starting new video recorder writing to /home/liza/Документы/Python-projects/RL/FrozenLake8x8-v0_solution_value_iter/openaigym.video.2.4312.video000027.json\n",
      "[2017-06-25 12:56:30,526] Starting new video recorder writing to /home/liza/Документы/Python-projects/RL/FrozenLake8x8-v0_solution_value_iter/openaigym.video.2.4312.video000064.json\n",
      "[2017-06-25 12:56:30,698] Starting new video recorder writing to /home/liza/Документы/Python-projects/RL/FrozenLake8x8-v0_solution_value_iter/openaigym.video.2.4312.video000125.json\n",
      "[2017-06-25 12:56:30,945] Starting new video recorder writing to /home/liza/Документы/Python-projects/RL/FrozenLake8x8-v0_solution_value_iter/openaigym.video.2.4312.video000216.json\n",
      "[2017-06-25 12:56:31,274] Starting new video recorder writing to /home/liza/Документы/Python-projects/RL/FrozenLake8x8-v0_solution_value_iter/openaigym.video.2.4312.video000343.json\n",
      "[2017-06-25 12:56:31,715] Starting new video recorder writing to /home/liza/Документы/Python-projects/RL/FrozenLake8x8-v0_solution_value_iter/openaigym.video.2.4312.video000512.json\n",
      "[2017-06-25 12:56:32,250] Starting new video recorder writing to /home/liza/Документы/Python-projects/RL/FrozenLake8x8-v0_solution_value_iter/openaigym.video.2.4312.video000729.json\n",
      "[2017-06-25 12:56:32,948] Finished writing results. You can upload them to the scoreboard via gym.upload('/home/liza/\\xd0\\x94\\xd0\\xbe\\xd0\\xba\\xd1\\x83\\xd0\\xbc\\xd0\\xb5\\xd0\\xbd\\xd1\\x82\\xd1\\x8b/Python-projects/RL/FrozenLake8x8-v0_solution_value_iter')\n",
      "[2017-06-25 12:56:32,951] [FrozenLake8x8-v0] Uploading 1000 episodes of training data\n"
     ]
    },
    {
     "name": "stdout",
     "output_type": "stream",
     "text": [
      "875.0\n"
     ]
    },
    {
     "name": "stderr",
     "output_type": "stream",
     "text": [
      "[2017-06-25 12:56:35,641] [FrozenLake8x8-v0] Uploading videos of 10 training episodes (2923 bytes)\n",
      "[2017-06-25 12:56:36,250] [FrozenLake8x8-v0] Creating evaluation object from FrozenLake8x8-v0_solution_value_iter with learning curve and training video\n",
      "[2017-06-25 12:56:36,757] \n",
      "****************************************************\n",
      "You successfully uploaded your evaluation on FrozenLake8x8-v0 to\n",
      "OpenAI Gym! You can find it at:\n",
      "\n",
      "    https://gym.openai.com/evaluations/eval_fWkDWw9uSpWB6mdicnnjxg\n",
      "\n",
      "****************************************************\n"
     ]
    }
   ],
   "source": [
    "solve_env('FrozenLake8x8-v0', method = 'value_iter', to_wrap = True, to_send = True)"
   ]
  },
  {
   "cell_type": "code",
   "execution_count": null,
   "metadata": {
    "collapsed": true
   },
   "outputs": [],
   "source": []
  },
  {
   "cell_type": "code",
   "execution_count": null,
   "metadata": {
    "collapsed": true
   },
   "outputs": [],
   "source": []
  },
  {
   "cell_type": "code",
   "execution_count": null,
   "metadata": {
    "collapsed": true
   },
   "outputs": [],
   "source": []
  },
  {
   "cell_type": "markdown",
   "metadata": {
    "collapsed": true
   },
   "source": [
    "## Среда Taxi-v1"
   ]
  },
  {
   "cell_type": "code",
   "execution_count": 157,
   "metadata": {
    "collapsed": false
   },
   "outputs": [
    {
     "name": "stderr",
     "output_type": "stream",
     "text": [
      "[2017-07-03 15:22:50,653] Making new env: Taxi-v1\n"
     ]
    }
   ],
   "source": [
    "taxi_env = gym.make('Taxi-v1')"
   ]
  },
  {
   "cell_type": "markdown",
   "metadata": {},
   "source": [
    "#### Policy iteration"
   ]
  },
  {
   "cell_type": "code",
   "execution_count": 158,
   "metadata": {
    "collapsed": true
   },
   "outputs": [],
   "source": [
    "policy1 = solve_env(taxi_env, method = 'policy_iter')"
   ]
  },
  {
   "cell_type": "code",
   "execution_count": 159,
   "metadata": {
    "collapsed": false
   },
   "outputs": [
    {
     "data": {
      "text/plain": [
       "10.02"
      ]
     },
     "execution_count": 159,
     "metadata": {},
     "output_type": "execute_result"
    }
   ],
   "source": [
    "np.random.seed(0)\n",
    "check_solution(taxi_env, policy1)"
   ]
  },
  {
   "cell_type": "markdown",
   "metadata": {},
   "source": [
    "#### Value iteration"
   ]
  },
  {
   "cell_type": "code",
   "execution_count": 160,
   "metadata": {
    "collapsed": true
   },
   "outputs": [],
   "source": [
    "policy2 = solve_env(taxi_env, method = 'value_iter')"
   ]
  },
  {
   "cell_type": "code",
   "execution_count": 161,
   "metadata": {
    "collapsed": false
   },
   "outputs": [
    {
     "data": {
      "text/plain": [
       "10.270000000000001"
      ]
     },
     "execution_count": 161,
     "metadata": {},
     "output_type": "execute_result"
    }
   ],
   "source": [
    "np.random.seed(0)\n",
    "check_solution(taxi_env, policy2)"
   ]
  },
  {
   "cell_type": "code",
   "execution_count": 165,
   "metadata": {
    "collapsed": false,
    "scrolled": true
   },
   "outputs": [
    {
     "name": "stderr",
     "output_type": "stream",
     "text": [
      "[2017-06-25 10:52:54,505] Making new env: Taxi-v1\n"
     ]
    },
    {
     "name": "stdout",
     "output_type": "stream",
     "text": [
      "('last k ', 0)\n"
     ]
    },
    {
     "name": "stderr",
     "output_type": "stream",
     "text": [
      "[2017-06-25 10:52:54,916] Attempted to wrap env <TaxiEnv instance> after .configure() was called. All wrappers must be applied before calling .configure()\n",
      "[2017-06-25 10:52:54,917] Creating monitor directory Taxi-v1_solution_policy_iter\n",
      "[2017-06-25 10:52:54,918] Starting new video recorder writing to /home/liza/Документы/Python-projects/RL/Taxi-v1_solution_policy_iter/openaigym.video.1.4312.video000000.json\n",
      "[2017-06-25 10:52:54,927] Starting new video recorder writing to /home/liza/Документы/Python-projects/RL/Taxi-v1_solution_policy_iter/openaigym.video.1.4312.video000001.json\n",
      "[2017-06-25 10:52:54,950] Starting new video recorder writing to /home/liza/Документы/Python-projects/RL/Taxi-v1_solution_policy_iter/openaigym.video.1.4312.video000008.json\n",
      "[2017-06-25 10:52:55,001] Starting new video recorder writing to /home/liza/Документы/Python-projects/RL/Taxi-v1_solution_policy_iter/openaigym.video.1.4312.video000027.json\n",
      "[2017-06-25 10:52:55,063] Starting new video recorder writing to /home/liza/Документы/Python-projects/RL/Taxi-v1_solution_policy_iter/openaigym.video.1.4312.video000064.json\n",
      "[2017-06-25 10:52:55,153] Starting new video recorder writing to /home/liza/Документы/Python-projects/RL/Taxi-v1_solution_policy_iter/openaigym.video.1.4312.video000125.json\n",
      "[2017-06-25 10:52:55,275] Starting new video recorder writing to /home/liza/Документы/Python-projects/RL/Taxi-v1_solution_policy_iter/openaigym.video.1.4312.video000216.json\n",
      "[2017-06-25 10:52:55,440] Starting new video recorder writing to /home/liza/Документы/Python-projects/RL/Taxi-v1_solution_policy_iter/openaigym.video.1.4312.video000343.json\n",
      "[2017-06-25 10:52:55,656] Starting new video recorder writing to /home/liza/Документы/Python-projects/RL/Taxi-v1_solution_policy_iter/openaigym.video.1.4312.video000512.json\n",
      "[2017-06-25 10:52:55,931] Starting new video recorder writing to /home/liza/Документы/Python-projects/RL/Taxi-v1_solution_policy_iter/openaigym.video.1.4312.video000729.json\n",
      "[2017-06-25 10:52:56,273] Finished writing results. You can upload them to the scoreboard via gym.upload('/home/liza/\\xd0\\x94\\xd0\\xbe\\xd0\\xba\\xd1\\x83\\xd0\\xbc\\xd0\\xb5\\xd0\\xbd\\xd1\\x82\\xd1\\x8b/Python-projects/RL/Taxi-v1_solution_policy_iter')\n",
      "[2017-06-25 10:52:56,276] [Taxi-v1] Uploading 1000 episodes of training data\n"
     ]
    },
    {
     "name": "stdout",
     "output_type": "stream",
     "text": [
      "10364.0\n"
     ]
    },
    {
     "name": "stderr",
     "output_type": "stream",
     "text": [
      "[2017-06-25 10:52:59,045] [Taxi-v1] Uploading videos of 10 training episodes (1817 bytes)\n",
      "[2017-06-25 10:52:59,632] [Taxi-v1] Creating evaluation object from Taxi-v1_solution_policy_iter with learning curve and training video\n",
      "[2017-06-25 10:53:00,348] \n",
      "****************************************************\n",
      "You successfully uploaded your evaluation on Taxi-v1 to\n",
      "OpenAI Gym! You can find it at:\n",
      "\n",
      "    https://gym.openai.com/evaluations/eval_9xUnOhbTkWuZyHDD9NpuQ\n",
      "\n",
      "****************************************************\n"
     ]
    }
   ],
   "source": [
    "solve_env('Taxi-v1', to_wrap = True, to_send = True)"
   ]
  },
  {
   "cell_type": "code",
   "execution_count": null,
   "metadata": {
    "collapsed": true
   },
   "outputs": [],
   "source": []
  },
  {
   "cell_type": "code",
   "execution_count": null,
   "metadata": {
    "collapsed": true
   },
   "outputs": [],
   "source": []
  },
  {
   "cell_type": "code",
   "execution_count": null,
   "metadata": {
    "collapsed": true
   },
   "outputs": [],
   "source": []
  },
  {
   "cell_type": "code",
   "execution_count": null,
   "metadata": {
    "collapsed": true
   },
   "outputs": [],
   "source": []
  },
  {
   "cell_type": "code",
   "execution_count": null,
   "metadata": {
    "collapsed": true
   },
   "outputs": [],
   "source": []
  },
  {
   "cell_type": "code",
   "execution_count": null,
   "metadata": {
    "collapsed": true
   },
   "outputs": [],
   "source": []
  },
  {
   "cell_type": "code",
   "execution_count": null,
   "metadata": {
    "collapsed": true
   },
   "outputs": [],
   "source": []
  },
  {
   "cell_type": "code",
   "execution_count": null,
   "metadata": {
    "collapsed": true
   },
   "outputs": [],
   "source": []
  },
  {
   "cell_type": "code",
   "execution_count": null,
   "metadata": {
    "collapsed": true
   },
   "outputs": [],
   "source": []
  },
  {
   "cell_type": "code",
   "execution_count": null,
   "metadata": {
    "collapsed": true
   },
   "outputs": [],
   "source": []
  }
 ],
 "metadata": {
  "kernelspec": {
   "display_name": "Python 2",
   "language": "python",
   "name": "python2"
  },
  "language_info": {
   "codemirror_mode": {
    "name": "ipython",
    "version": 2
   },
   "file_extension": ".py",
   "mimetype": "text/x-python",
   "name": "python",
   "nbconvert_exporter": "python",
   "pygments_lexer": "ipython2",
   "version": "2.7.13"
  }
 },
 "nbformat": 4,
 "nbformat_minor": 2
}
